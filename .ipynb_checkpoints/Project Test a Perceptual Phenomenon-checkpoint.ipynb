{
 "cells": [
  {
   "cell_type": "markdown",
   "metadata": {},
   "source": [
    "## Analyzing the Stroop Effect\n",
    "Perform the analysis in the space below."
   ]
  },
  {
   "cell_type": "markdown",
   "metadata": {},
   "source": [
    "**In a Stroop task**,` participants are presented with a list of words, with each word displayed in a color of ink. The participant’s task is to say out loud the color of the ink in which the word is printed. The task has two conditions: a congruent words condition, and an incongruent words condition. In the congruent words condition, the words being displayed are color words whose names match the colors in which they are printed: for example RED, BLUE. In the incongruent words condition, the words displayed are color words whose names do not match the colors in which they are printed: for example PURPLE, ORANGE. In each case, we measure the time it takes to name the ink colors in equally-sized lists. Each participant will go through and record a time from each condition.`\n",
    "\n"
   ]
  },
  {
   "cell_type": "markdown",
   "metadata": {},
   "source": [
    "### **(1) What is the independent variable? What is the dependent variable?**"
   ]
  },
  {
   "cell_type": "markdown",
   "metadata": {},
   "source": [
    "**Independent variable:** An **independent variable** is the variable that is changed or controlled in a scientific experiment to test the effects on the dependent variable.In this project Independent variable is **Congruent or incongruent word condition.**<br>\n",
    "\n",
    "**Dependent variable:** A **dependent variable** is the variable being tested and measured in a scientific experiment. In given project it indicate the **Time to complete test**.  <br> \n",
    "\n",
    "This is the key comparison of information you are looking for:<br>\n",
    "**Independent\n",
    "Samples** are independent; no overlap between group members.<br>\n",
    "**Dependent\n",
    "Samples** or sets of data used to produce the difference scores are linked in the population through repeated measurement, natural association, or matching\n"
   ]
  },
  {
   "cell_type": "markdown",
   "metadata": {},
   "source": [
    "#### (2) What is an appropriate set of hypotheses for this task? <br>Specify your null and alternative hypotheses, and clearly define any notation used. Justify your choices."
   ]
  },
  {
   "cell_type": "markdown",
   "metadata": {},
   "source": [
    "**Null Hypothesis**\n",
    "\n",
    "$$H_0:  μ_{Con} - μ_{Inc} = 0 $$ \n",
    "<br> The mean of Congruent & incongruent difference between is equal to zero.\n",
    "\n",
    "**Alternative Hypothesis **\n",
    "\n",
    "$$H_1:  μ_{Con} - μ_{Inc} ≠ 0$$\n",
    "<br>The mean of Congruent & incongruent difference between is not equal to zero.\n",
    "<br>\n",
    "#### statistical test dependent t-test.\n",
    "**The t distribution is a probability distribution that is used to estimate population parameters when the sample size is small and when the population variance is unknown.**<br>\n",
    "**In this project we use two tailed Paired T-test.** `(\"Paired samples\" are when observations are made on pairs of units which are similar in some respect.The purpose of pairing is to reduce the variability in the response variable that you are measuring. The more similar the two individuals are, the more effective the pairing.)`\n",
    "\n"
   ]
  },
  {
   "cell_type": "markdown",
   "metadata": {},
   "source": [
    "### (3) Report some descriptive statistics regarding this dataset. Include at least one measure of central tendency and at least one measure of variability. The name of the data file is 'stroopdata.csv'."
   ]
  },
  {
   "cell_type": "code",
   "execution_count": 284,
   "metadata": {},
   "outputs": [],
   "source": [
    "import pandas as pd\n",
    "import numpy as np\n",
    "import seaborn as sns\n",
    "from scipy.stats import t\n",
    "from scipy import stats\n",
    "import matplotlib.pyplot as plt\n",
    "%matplotlib inline"
   ]
  },
  {
   "cell_type": "code",
   "execution_count": 285,
   "metadata": {},
   "outputs": [
    {
     "data": {
      "text/html": [
       "<div>\n",
       "<style scoped>\n",
       "    .dataframe tbody tr th:only-of-type {\n",
       "        vertical-align: middle;\n",
       "    }\n",
       "\n",
       "    .dataframe tbody tr th {\n",
       "        vertical-align: top;\n",
       "    }\n",
       "\n",
       "    .dataframe thead th {\n",
       "        text-align: right;\n",
       "    }\n",
       "</style>\n",
       "<table border=\"1\" class=\"dataframe\">\n",
       "  <thead>\n",
       "    <tr style=\"text-align: right;\">\n",
       "      <th></th>\n",
       "      <th>Congruent</th>\n",
       "      <th>Incongruent</th>\n",
       "    </tr>\n",
       "  </thead>\n",
       "  <tbody>\n",
       "    <tr>\n",
       "      <th>0</th>\n",
       "      <td>12.079</td>\n",
       "      <td>19.278</td>\n",
       "    </tr>\n",
       "    <tr>\n",
       "      <th>1</th>\n",
       "      <td>16.791</td>\n",
       "      <td>18.741</td>\n",
       "    </tr>\n",
       "    <tr>\n",
       "      <th>2</th>\n",
       "      <td>9.564</td>\n",
       "      <td>21.214</td>\n",
       "    </tr>\n",
       "    <tr>\n",
       "      <th>3</th>\n",
       "      <td>8.630</td>\n",
       "      <td>15.687</td>\n",
       "    </tr>\n",
       "    <tr>\n",
       "      <th>4</th>\n",
       "      <td>14.669</td>\n",
       "      <td>22.803</td>\n",
       "    </tr>\n",
       "  </tbody>\n",
       "</table>\n",
       "</div>"
      ],
      "text/plain": [
       "   Congruent  Incongruent\n",
       "0     12.079       19.278\n",
       "1     16.791       18.741\n",
       "2      9.564       21.214\n",
       "3      8.630       15.687\n",
       "4     14.669       22.803"
      ]
     },
     "execution_count": 285,
     "metadata": {},
     "output_type": "execute_result"
    }
   ],
   "source": [
    "df = pd.read_csv('stroopdata.csv')\n",
    "df.head()"
   ]
  },
  {
   "cell_type": "code",
   "execution_count": 286,
   "metadata": {},
   "outputs": [
    {
     "name": "stdout",
     "output_type": "stream",
     "text": [
      "24 no. of Rows in data file.\n",
      "02 no. of Columns in data file.\n"
     ]
    }
   ],
   "source": [
    "# To calculate the number of rows and columns\n",
    "print(\"{} no. of Rows in data file.\".format(df.shape[0]))\n",
    "print(\"0{} no. of Columns in data file.\".format(df.shape[1]))"
   ]
  },
  {
   "cell_type": "code",
   "execution_count": 287,
   "metadata": {},
   "outputs": [
    {
     "data": {
      "text/html": [
       "<div>\n",
       "<style scoped>\n",
       "    .dataframe tbody tr th:only-of-type {\n",
       "        vertical-align: middle;\n",
       "    }\n",
       "\n",
       "    .dataframe tbody tr th {\n",
       "        vertical-align: top;\n",
       "    }\n",
       "\n",
       "    .dataframe thead th {\n",
       "        text-align: right;\n",
       "    }\n",
       "</style>\n",
       "<table border=\"1\" class=\"dataframe\">\n",
       "  <thead>\n",
       "    <tr style=\"text-align: right;\">\n",
       "      <th></th>\n",
       "      <th>Congruent</th>\n",
       "      <th>Incongruent</th>\n",
       "    </tr>\n",
       "  </thead>\n",
       "  <tbody>\n",
       "    <tr>\n",
       "      <th>count</th>\n",
       "      <td>24.000000</td>\n",
       "      <td>24.000000</td>\n",
       "    </tr>\n",
       "    <tr>\n",
       "      <th>mean</th>\n",
       "      <td>14.051125</td>\n",
       "      <td>22.015917</td>\n",
       "    </tr>\n",
       "    <tr>\n",
       "      <th>std</th>\n",
       "      <td>3.559358</td>\n",
       "      <td>4.797057</td>\n",
       "    </tr>\n",
       "    <tr>\n",
       "      <th>min</th>\n",
       "      <td>8.630000</td>\n",
       "      <td>15.687000</td>\n",
       "    </tr>\n",
       "    <tr>\n",
       "      <th>25%</th>\n",
       "      <td>11.895250</td>\n",
       "      <td>18.716750</td>\n",
       "    </tr>\n",
       "    <tr>\n",
       "      <th>50%</th>\n",
       "      <td>14.356500</td>\n",
       "      <td>21.017500</td>\n",
       "    </tr>\n",
       "    <tr>\n",
       "      <th>75%</th>\n",
       "      <td>16.200750</td>\n",
       "      <td>24.051500</td>\n",
       "    </tr>\n",
       "    <tr>\n",
       "      <th>max</th>\n",
       "      <td>22.328000</td>\n",
       "      <td>35.255000</td>\n",
       "    </tr>\n",
       "  </tbody>\n",
       "</table>\n",
       "</div>"
      ],
      "text/plain": [
       "       Congruent  Incongruent\n",
       "count  24.000000    24.000000\n",
       "mean   14.051125    22.015917\n",
       "std     3.559358     4.797057\n",
       "min     8.630000    15.687000\n",
       "25%    11.895250    18.716750\n",
       "50%    14.356500    21.017500\n",
       "75%    16.200750    24.051500\n",
       "max    22.328000    35.255000"
      ]
     },
     "execution_count": 287,
     "metadata": {},
     "output_type": "execute_result"
    }
   ],
   "source": [
    "# To find the Central Tendency and Variability of each Independent Variables.\n",
    "df.describe()"
   ]
  },
  {
   "cell_type": "markdown",
   "metadata": {},
   "source": [
    "### To calculate Central Tendency of each independent variable(Congruent & Incongruent)\n",
    "\n",
    "Centeral tendency of Congruent   is 14.051125 <br>\n",
    "Centeral tendency of Incongruent is 22.015917"
   ]
  },
  {
   "cell_type": "markdown",
   "metadata": {},
   "source": [
    "### To calculate Variability of each independent variable(Congruent & Incongruent)\n",
    "\n",
    "standard deviation of congruent   is 3.559358\t\n",
    "standard deviation of Incongruent is 4.797057"
   ]
  },
  {
   "cell_type": "markdown",
   "metadata": {},
   "source": [
    "**`observation:`** Here we observe that centeral tendency of conguruent & Inconguruent are aproximately 14.05 & 22.02 And the standard deviation of conguruent & Inconguruent are aproximately 3.56 & 4.80."
   ]
  },
  {
   "cell_type": "markdown",
   "metadata": {},
   "source": [
    "### (4) Provide one or two visualizations that show the distribution of the sample data. Write one or two sentences noting what you observe about the plot or plots."
   ]
  },
  {
   "cell_type": "code",
   "execution_count": 288,
   "metadata": {},
   "outputs": [
    {
     "data": {
      "text/plain": [
       "array([[<matplotlib.axes._subplots.AxesSubplot object at 0x1a1e8fa780>,\n",
       "        <matplotlib.axes._subplots.AxesSubplot object at 0x1a1dfa3c50>]],\n",
       "      dtype=object)"
      ]
     },
     "execution_count": 288,
     "metadata": {},
     "output_type": "execute_result"
    },
    {
     "data": {
      "image/png": "[encoded data removed]",
      "text/plain": [
       "<matplotlib.figure.Figure at 0x1a1d847a90>"
      ]
     },
     "metadata": {},
     "output_type": "display_data"
    }
   ],
   "source": [
    "# To show the histogram graph of data set\n",
    "df.hist()"
   ]
  },
  {
   "cell_type": "code",
   "execution_count": 289,
   "metadata": {},
   "outputs": [
    {
     "data": {
      "image/png": "[encoded data removed]",
      "text/plain": [
       "<matplotlib.figure.Figure at 0x1a1e9c8978>"
      ]
     },
     "metadata": {},
     "output_type": "display_data"
    }
   ],
   "source": [
    "\n",
    "# To plot graph Response time for Congruent or incongruent word condition \n",
    "# To build the histogram and rug plot\n",
    "sns.distplot(df['Congruent'], color='Green', label = \"congruent\");\n",
    "sns.distplot(df['Incongruent'],color='Orange', label = \"incongruent\");\n",
    "plt.xlabel(\"Time taken complete the test \");\n",
    "plt.ylabel(\"Number of Frequency\");\n",
    "plt.title(\"Response time for Congruent or incongruent word condition\");\n",
    "plt.legend();\n"
   ]
  },
  {
   "cell_type": "code",
   "execution_count": 290,
   "metadata": {},
   "outputs": [
    {
     "data": {
      "image/png": "[encoded data removed]",
      "text/plain": [
       "<matplotlib.figure.Figure at 0x1a1dfbad68>"
      ]
     },
     "metadata": {},
     "output_type": "display_data"
    }
   ],
   "source": [
    "sns.jointplot(x=\"Congruent\", y=\"Incongruent\", data=df);\n"
   ]
  },
  {
   "cell_type": "markdown",
   "metadata": {},
   "source": [
    "**`Observation:`** Here we observe that both Congruent & Incongruent data points are skew on the right side positively .But in incongruent in between 30-35 seconds occur an outliners.The mean is aproximetly close to the high value in both graphs which indicates a normal distribution.\n",
    "\n"
   ]
  },
  {
   "cell_type": "markdown",
   "metadata": {},
   "source": [
    "### (5)  Now, perform the statistical test and report your results. <br>What is your confidence level or Type I error associated with your test? <br>What is your conclusion regarding the hypotheses you set up?<br> Did the results match up with your expectations? <br>**Hint:**  Think about what is being measured on each individual, and what statistic best captures how an individual reacts in each environment."
   ]
  },
  {
   "cell_type": "markdown",
   "metadata": {},
   "source": [
    "### Degrees of Freedom (d.e.f)\n",
    "There are actually many different t distributions. The particular form of the t distribution is determined by its degrees of freedom. The degrees of freedom refers to the number of independent observations in a set of data.\n",
    "<br><br>\n",
    "d.e.f = no. of observations or Sample size - 1\n",
    "\n",
    "### Confidence Level \n",
    "Confidence intervals are constructed at a confidence level, such as 97 %, selected by the user. What does this mean? It means that if the same population is sampled on numerous occasions and interval estimates are made on each occasion, the resulting intervals would bracket the true population parameter in approximately 97 % of the cases. A confidence stated at a 1−α level can be thought of as the inverse of a significance level, α."
   ]
  },
  {
   "cell_type": "code",
   "execution_count": 291,
   "metadata": {},
   "outputs": [
    {
     "name": "stdout",
     "output_type": "stream",
     "text": [
      "Number of observations/Sample size is 24\n",
      "Degree of Freedom is 23\n",
      "97% of confidence level \n",
      "significance level α is 0.03 \n"
     ]
    }
   ],
   "source": [
    "print(\"Number of observations/Sample size is {}\".format(len(df)))\n",
    "print(\"Degree of Freedom is {}\".format(len(df) - 1))\n",
    "print(\"97% of confidence level \")\n",
    "print(\"significance level α is 0.03 \")"
   ]
  },
  {
   "cell_type": "code",
   "execution_count": 292,
   "metadata": {},
   "outputs": [
    {
     "name": "stdout",
     "output_type": "stream",
     "text": [
      " 2.3132 is t-critical value (Two-Tailed t-test) at significance level α (0.03).\n",
      "-2.3132 is t-critical value (Two-Tailed t-test) at significance level α (0.03).\n"
     ]
    }
   ],
   "source": [
    "# To find t-critical value for 97% of confidence level and degree of freedom is 23\n",
    "# Two-tailed t-test at significance level α (0.03)\n",
    "print(\" {00:.4f} is t-critical value (Two-Tailed t-test) at significance level α (0.03).\".format(stats.t.ppf(1-0.015, 23)))\n",
    "print(\"{00:.4f} is t-critical value (Two-Tailed t-test) at significance level α (0.03).\".format(stats.t.ppf(1-.985, 23)))\n",
    "\n"
   ]
  },
  {
   "cell_type": "code",
   "execution_count": 293,
   "metadata": {},
   "outputs": [
    {
     "data": {
      "text/plain": [
       "Ttest_relResult(statistic=-8.020706944109957, pvalue=4.103000585711178e-08)"
      ]
     },
     "execution_count": 293,
     "metadata": {},
     "output_type": "execute_result"
    }
   ],
   "source": [
    "# To find the t-statistic & P-value\n",
    "# we calculate the T-test on response time for congruent and incongruent words\n",
    "stats.ttest_rel(df['Congruent'], df['Incongruent'])\n"
   ]
  },
  {
   "cell_type": "markdown",
   "metadata": {},
   "source": [
    "**We found `t-critical value` is `+/- 2.3132` by using `stats.t.ppf()` method  with 23 degree of freedom and significance level α (0.03)**<br>\n",
    "\n",
    "###  `t-statistic(-8.0207)`  <  `t-critical value(-2.3132)`\n",
    "###  `p-value(4.1030e-08)`  <  `significance level α (0.03)`\n",
    "\n",
    "### so we should reject the null hypothesis.<br>\n",
    "\n",
    "**The result match up with our expectations,That both the response time for congruent and incongruent words are different from others.**\n",
    "\n"
   ]
  },
  {
   "cell_type": "markdown",
   "metadata": {},
   "source": [
    "### (6) Optional: What do you think is responsible for the effects observed?<br> Can you think of an alternative or similar task that would result in a similar effect? Some research about the problem will be helpful for thinking about these two questions!"
   ]
  },
  {
   "cell_type": "markdown",
   "metadata": {},
   "source": [
    "### `Observation :` \n",
    "`01` **When we see and interact with the surroundings nearby first we need to understand it.With Visual processing is one way we do this.When we see an object, we don’t just see its physical attributes, we also comprehend the meaning behind them.We know that a chair needs legs because the seat needs to be raised, we know that the wood comes from trees, we know we could sit in it, and so on. There is information that we process about the things we see without even being aware of that processing.**<br>\n",
    "`02` **Warped words :** For example, the warped words Stroop effect produces the same findings similar to the original Stroop effect. Much like the Stroop task, the printed word's color is different from the ink color of the word; however, the words are printed in such a way that it is more difficult to read (typically curved-shaped). The idea here is the way the words are printed slows down both the brain's reaction and processing time, making it harder to complete the task.\n",
    "`03` **The Numerical Stroop effect** demonstrates the close relationship between numerical values and physical sizes. Digits symbolize numerical values but they also have physical sizes. A digit can be presented as big or small (e.g., 5 vs. 5), irrespective of its numerical value. Comparing digits in incongruent trials (e.g., 3 5) is slower than comparing digits in congruent trials (e.g., 5 3) and the difference in reaction time is termed the numerical Stroop effect. The effect of irrelevant numerical values on physical comparisons (similar to the effect of irrelevant color words on responding to colors) suggests that numerical values are processed automatically (i.e., even when they are irrelevant to the task)\n"
   ]
  },
  {
   "cell_type": "markdown",
   "metadata": {},
   "source": [
    "### References :\n",
    "https://en.wikipedia.org/wiki/Stroop_effect<br>\n",
    "https://www.itl.nist.gov/div898/handbook/prc/section1/prc131.htm<br>\n",
    "https://www.thoughtco.com/independent-and-dependent-variables-differences-606115<br>\n",
    "https://seaborn.pydata.org/index.html<br>\n",
    "https://stattrek.com/probability-distributions/t-distribution.aspx<br>\n",
    "https://docs.scipy.org/doc/scipy-0.14.0/reference/generated/scipy.stats.t.html<br>\n",
    "http://influentialpoints.com/Training/paired_t-test-principles-properties-assumptions.htm\n",
    "\n",
    "**`Thanks For Guidence and help of Mentor in this project`**"
   ]
  },
  {
   "cell_type": "code",
   "execution_count": null,
   "metadata": {},
   "outputs": [],
   "source": []
  }
 ],
 "metadata": {
  "kernelspec": {
   "display_name": "Python 3",
   "language": "python",
   "name": "python3"
  },
  "language_info": {
   "codemirror_mode": {
    "name": "ipython",
    "version": 3
   },
   "file_extension": ".py",
   "mimetype": "text/x-python",
   "name": "python",
   "nbconvert_exporter": "python",
   "pygments_lexer": "ipython3",
   "version": "3.6.4"
  }
 },
 "nbformat": 4,
 "nbformat_minor": 2
}
